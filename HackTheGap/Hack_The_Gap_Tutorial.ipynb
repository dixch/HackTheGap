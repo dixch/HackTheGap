{
 "cells": [
  {
   "cell_type": "markdown",
   "metadata": {
    "slideshow": {
     "slide_type": "slide"
    }
   },
   "source": [
    "# Hack the gap!\n",
    "\n",
    "## Exploring UK gender pay gap data with Data + Women, London\n",
    "\n",
    "Tutorial by Christine Dixon April 2019"
   ]
  },
  {
   "cell_type": "markdown",
   "metadata": {
    "slideshow": {
     "slide_type": "fragment"
    }
   },
   "source": [
    "## Using jupyter:\n",
    "\n",
    "<font color='green'>Green cell border <font color='black'>means the cell is in 'edit' mode\n",
    "<br> You can type code in a green cell, then hit <b> shift + enter </b>to execute the code  \n",
    "<br> To get documentation on a function: hold shift and double-click tab\n",
    "\n",
    "\n",
    "<br>hit 'esc' to go into 'command' mode <font color='blue'>(blue cell border)<font color='black'>\n",
    "<br>In command mode: 'a' makes a new cell above; 'b' makes a new cell below\n",
    "\n",
    "<br>hit 'enter' or click into the cell to return to 'edit' mode"
   ]
  },
  {
   "cell_type": "code",
   "execution_count": 87,
   "metadata": {
    "slideshow": {
     "slide_type": "slide"
    }
   },
   "outputs": [],
   "source": [
    "## Quick Python revision:\n",
    "# A = 9\n",
    "# B = '9'"
   ]
  },
  {
   "cell_type": "code",
   "execution_count": 3,
   "metadata": {},
   "outputs": [],
   "source": []
  },
  {
   "cell_type": "markdown",
   "metadata": {
    "slideshow": {
     "slide_type": "slide"
    }
   },
   "source": [
    "## Import packages\n",
    "\n",
    "this will take a minute.\n",
    "<br>If the cell has * to the left it is still processing"
   ]
  },
  {
   "cell_type": "code",
   "execution_count": 25,
   "metadata": {
    "slideshow": {
     "slide_type": "subslide"
    }
   },
   "outputs": [],
   "source": [
    "import pandas as pd\n",
    "import numpy as np\n",
    "import matplotlib.pyplot as plt"
   ]
  },
  {
   "cell_type": "markdown",
   "metadata": {
    "slideshow": {
     "slide_type": "slide"
    }
   },
   "source": [
    "## Part 1: Import the data and check it\n",
    "\n",
    "    df = pd.read_csv('file_name.csv')\n",
    "\n",
    "\n",
    "Once you have a dataframe object, you can <b>do stuff</b> to it using <b>functions</b> (also called methods). \n",
    "<br>You can also <b>access information</b> about it using <b>attributes</b>.\n",
    "\n",
    "\n",
    "Check your dataframe using one of these dataframe <b>methods</b> (the parentheses allow you to feed extra info to the function () ):\n",
    "\n",
    "    df.head()\n",
    "    df.tail(2)\n",
    "    df.sample()\n",
    "  \n",
    "In addition to functions, the dataframe class has some useful <b>attributes</b> (these do not need parentheses):\n",
    "\n",
    "    df.shape\n",
    "    df.columns\n",
    "    df.index\n",
    "    \n",
    "You can <i>chain</i> attributes and functions together\n",
    "\n",
    "    df.sample().T"
   ]
  },
  {
   "cell_type": "code",
   "execution_count": 178,
   "metadata": {
    "scrolled": true,
    "slideshow": {
     "slide_type": "subslide"
    }
   },
   "outputs": [],
   "source": [
    "#df = pd.read_csv('UK Gender Pay Gap Data - 2018 to 2019.csv')"
   ]
  },
  {
   "cell_type": "code",
   "execution_count": null,
   "metadata": {
    "slideshow": {
     "slide_type": "subslide"
    }
   },
   "outputs": [],
   "source": [
    "# Take a look at your data using .sample()"
   ]
  },
  {
   "cell_type": "markdown",
   "metadata": {},
   "source": [
    "## Pause point: if you can't see your data, ask for help here!"
   ]
  },
  {
   "cell_type": "markdown",
   "metadata": {
    "slideshow": {
     "slide_type": "slide"
    }
   },
   "source": [
    "## Part 1b (optional): try out some more functions to explore your data\n",
    "\n",
    "\n",
    "    df.max()\n",
    "    df.min()\n",
    "    df.describe()\n",
    "    df.info()\n",
    "\n",
    "    df.sort_values()\n",
    "    \n",
    "If you want to make the sorted version permanent, you need to assign it back to your variable name\n",
    "\n",
    "    df = df.sort_values()"
   ]
  },
  {
   "cell_type": "code",
   "execution_count": null,
   "metadata": {},
   "outputs": [],
   "source": []
  },
  {
   "cell_type": "code",
   "execution_count": null,
   "metadata": {
    "slideshow": {
     "slide_type": "fragment"
    }
   },
   "outputs": [],
   "source": []
  },
  {
   "cell_type": "markdown",
   "metadata": {
    "slideshow": {
     "slide_type": "slide"
    }
   },
   "source": [
    "## Part 2: how to select using .loc and .iloc\n",
    "\n",
    "### Pay attention to square brackets! [ ]\n",
    "\n",
    "A whole column:\n",
    "  \n",
    "    df['colname']\n",
    "\n",
    "A specific cell:\n",
    "\n",
    "    df.loc[rowname, colname]\n",
    "    \n",
    "A specific subset:\n",
    "\n",
    "    df.loc[[2,4,6],['col1','col2','col3']]\n",
    "    \n",
    "df.loc[ ] selects using the names of the rows and columns.<br>\n",
    "\n",
    "### How is .iloc different?\n",
    "\n",
    "df.iloc[ ] <i><b>ignores</i></b> the names of the rows and columns and counts up from 0\n",
    "    \n",
    "    df.iloc[375, 2]\n",
    "    \n",
    "\n",
    "You can use it to take a slice of your dataframe\n",
    "\n",
    "    df.iloc[3:35, :]\n",
    "    \n",
    "\n",
    "<br>\n",
    "\n",
    " #### Further reading (advanced):\n",
    "https://stackoverflow.com/questions/48409128/what-is-the-difference-between-using-loc-and-using-just-square-brackets-to-filte"
   ]
  },
  {
   "cell_type": "code",
   "execution_count": 22,
   "metadata": {
    "scrolled": true,
    "slideshow": {
     "slide_type": "slide"
    }
   },
   "outputs": [],
   "source": [
    "# Get a list of the columns to help\n"
   ]
  },
  {
   "cell_type": "code",
   "execution_count": 90,
   "metadata": {
    "scrolled": true
   },
   "outputs": [],
   "source": [
    "# Select the 'DiffMedianHourlyPercent' column using square brackets\n"
   ]
  },
  {
   "cell_type": "code",
   "execution_count": 2,
   "metadata": {},
   "outputs": [],
   "source": [
    "# use .loc to return row 7681\n",
    "# then specify the column 'CompanyLinkToGPGInfo'\n",
    "\n"
   ]
  },
  {
   "cell_type": "code",
   "execution_count": 21,
   "metadata": {},
   "outputs": [],
   "source": [
    "# Make a new column to get the % female in each quartile\n",
    "# Hint: use .iloc to select the four %Female columns"
   ]
  },
  {
   "cell_type": "code",
   "execution_count": 91,
   "metadata": {},
   "outputs": [],
   "source": [
    "# Make a new column to get the % female in each quartile\n",
    "#df['PercentFemale'] = df.iloc[:,[11,13,15,17]].sum(axis=1)\n",
    "#df['PercentFemale'] = df['PercentFemale']/4"
   ]
  },
  {
   "cell_type": "code",
   "execution_count": 58,
   "metadata": {
    "scrolled": false
   },
   "outputs": [
    {
     "data": {
      "text/plain": [
       "<matplotlib.axes._subplots.AxesSubplot at 0x122b12978>"
      ]
     },
     "execution_count": 58,
     "metadata": {},
     "output_type": "execute_result"
    },
    {
     "data": {
      "image/png": "[encoded data removed]",
      "text/plain": [
       "<Figure size 432x288 with 1 Axes>"
      ]
     },
     "metadata": {
      "needs_background": "light"
     },
     "output_type": "display_data"
    }
   ],
   "source": [
    "# Make a quick plot with the new column\n",
    "df['PercentFemale'].hist(bins=200)"
   ]
  },
  {
   "cell_type": "code",
   "execution_count": null,
   "metadata": {},
   "outputs": [],
   "source": []
  },
  {
   "cell_type": "code",
   "execution_count": null,
   "metadata": {
    "slideshow": {
     "slide_type": "subslide"
    }
   },
   "outputs": [],
   "source": []
  },
  {
   "cell_type": "markdown",
   "metadata": {
    "slideshow": {
     "slide_type": "slide"
    }
   },
   "source": [
    "## Part 3: Filtering\n",
    "\n",
    "Step 1:\n",
    "Write a true/false statement that can be applied to each row in the target column of your data.<br>\n",
    "<br>You can use operators like >, <, ==, or != (not equal).<br>\n",
    "It should return a series of 'true/false' values\n",
    "\n",
    "    df['DiffMeanHourlyPercent'] > 0\n",
    "    \n",
    "<br>\n",
    "Step 2: \n",
    "Pass that filter statement to the square brackets of df.loc [ ]. You will now get only the rows where you had 'true'\n",
    "\n",
    "    df.loc[df['DiffMeanHourlyPercent'] > 0]\n",
    "    \n",
    "<br>    \n",
    "Any expression that results in True/False can be used to filter.<br>\n",
    "Try using string expressions to find your company\n",
    "    \n",
    "    df['EmployerName'].str.contains('Lloyds')\n",
    "    df['EmployerName'].str.startswith('UCL')\n"
   ]
  },
  {
   "cell_type": "code",
   "execution_count": null,
   "metadata": {},
   "outputs": [],
   "source": [
    "# Find all the companies with a paygap in favour of women (ie < 0)"
   ]
  },
  {
   "cell_type": "code",
   "execution_count": null,
   "metadata": {},
   "outputs": [],
   "source": [
    "\n"
   ]
  },
  {
   "cell_type": "code",
   "execution_count": null,
   "metadata": {},
   "outputs": [],
   "source": [
    "# Try building a filter using a string search\n"
   ]
  },
  {
   "cell_type": "code",
   "execution_count": null,
   "metadata": {},
   "outputs": [],
   "source": []
  },
  {
   "cell_type": "code",
   "execution_count": 44,
   "metadata": {
    "slideshow": {
     "slide_type": "subslide"
    }
   },
   "outputs": [],
   "source": []
  },
  {
   "cell_type": "markdown",
   "metadata": {},
   "source": [
    "## Part 3b (optional): How does the tech sector compare to other companies?\n",
    "\n",
    "\n",
    "Use str.contains to make a filter that selects the tech sector SIC codes:\n",
    "\n",
    "IT:\n",
    "62020\n",
    "62090\n",
    "\n",
    "Software:\n",
    "58290\n",
    "62012\n",
    "\n",
    "You can use the pipe character | to indicate 'or'\n",
    "\n",
    "    df['SicCodes'].str.contains('62020|62090|58290|62012')\n",
    "\n",
    "<br>\n",
    "After writing the filter expression, apply it to the dataframe with .loc, \n",
    "\n",
    "    df.loc[df['SicCodes'].str.contains('62020|62090|58290|62012')]\n",
    "    \n",
    "Then you can summarise your data, for example with .mean()\n",
    "\n",
    "    df.loc[df['SicCodes'].str.contains('62020|62090|58290|62012')].mean()\n",
    "  \n",
    "  \n",
    "<br>\n",
    "Is the pay gap bigger or smaller in the tech industry?\n",
    "Compare it to non-tech companies by selecting rows where the filter is False\n",
    "\n",
    "    df['SicCodes'].str.contains('62020|62090|58290|62012') == False\n",
    "    "
   ]
  },
  {
   "cell_type": "code",
   "execution_count": null,
   "metadata": {},
   "outputs": [],
   "source": []
  },
  {
   "cell_type": "code",
   "execution_count": 185,
   "metadata": {},
   "outputs": [],
   "source": []
  }
 ],
 "metadata": {
  "celltoolbar": "Slideshow",
  "kernelspec": {
   "display_name": "Python 3",
   "language": "python",
   "name": "python3"
  },
  "language_info": {
   "codemirror_mode": {
    "name": "ipython",
    "version": 3
   },
   "file_extension": ".py",
   "mimetype": "text/x-python",
   "name": "python",
   "nbconvert_exporter": "python",
   "pygments_lexer": "ipython3",
   "version": "3.7.1"
  }
 },
 "nbformat": 4,
 "nbformat_minor": 2
}
